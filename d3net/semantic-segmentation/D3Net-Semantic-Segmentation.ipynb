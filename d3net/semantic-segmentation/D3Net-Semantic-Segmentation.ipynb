{
 "cells": [
  {
   "cell_type": "markdown",
   "metadata": {},
   "source": [
    "# Code/Environment Preparation\n",
    "\n",
    "Let's start by installing nnabla and other required packages first. If you're running on Colab, make sure that your Runtime setting is set as GPU. If not, that can be set up from the top menu (Runtime → change runtime type). Then click Connect on the top right-hand side of the screen before you start."
   ]
  },
  {
   "cell_type": "code",
   "execution_count": null,
   "metadata": {},
   "outputs": [],
   "source": [
    "!pip install opencv-python nnabla-ext-cuda100\n",
    "!pip install --upgrade PyYAML"
   ]
  },
  {
   "cell_type": "markdown",
   "metadata": {},
   "source": [
    "Next, clone the code from sony/ai-research-code repository"
   ]
  },
  {
   "cell_type": "code",
   "execution_count": null,
   "metadata": {},
   "outputs": [],
   "source": [
    "!git clone https://github.com/sony/ai-research-code.git\n",
    "%cd ai-research-code/d3net/semantic-segmentation"
   ]
  },
  {
   "cell_type": "markdown",
   "metadata": {},
   "source": [
    "# Upload an image\n",
    "Run the following cell to upload an image."
   ]
  },
  {
   "cell_type": "code",
   "execution_count": null,
   "metadata": {},
   "outputs": [],
   "source": [
    "from google.colab import files\n",
    "\n",
    "img = files.upload()"
   ]
  },
  {
   "cell_type": "markdown",
   "metadata": {},
   "source": [
    "Let's rename the image for convenience."
   ]
  },
  {
   "cell_type": "code",
   "execution_count": null,
   "metadata": {},
   "outputs": [],
   "source": [
    "import os\n",
    "ext = os.path.splitext(list(img.keys())[-1])[-1]\n",
    "os.rename(list(img.keys())[-1], \"input_image{}\".format(ext)) \n",
    "input_img = \"input_image\" + ext"
   ]
  },
  {
   "cell_type": "markdown",
   "metadata": {},
   "source": [
    "# Semantic Segmentation with D3Net as BackBone Network"
   ]
  },
  {
   "cell_type": "markdown",
   "metadata": {},
   "source": [
    "We provide two D3Net models for Semantic Segmentation. The smaller architecture, denoted as D3Net-S, employs D3 blocks of (M, L, k, c) =(4, 8, 36, 0.2), while the larger architecture, D3Net-L, uses D3 blocks of (M, L, k, c) = (4, 10, 64, 0.2)."
   ]
  },
  {
   "cell_type": "code",
   "execution_count": null,
   "metadata": {},
   "outputs": [],
   "source": [
    "#@title Choose D3Net version\n",
    "\n",
    "d3net_version = 'D3Net-L' #@param [\"D3Net-S\", \"D3Net-L\"]\n",
    "if d3net_version == 'D3Net-L':\n",
    "    weight_file_name = 'D3Net-L.h5'\n",
    "    cfg_file_name = './configs/D3Net_L.yaml'\n",
    "else:\n",
    "    weight_file_name = 'D3Net-S.h5'\n",
    "    cfg_file_name = './configs/D3Net_S.yaml'"
   ]
  },
  {
   "cell_type": "markdown",
   "metadata": {},
   "source": [
    "Let's also download the pre-trained weight parameters."
   ]
  },
  {
   "cell_type": "code",
   "execution_count": null,
   "metadata": {},
   "outputs": [],
   "source": [
    "!wget https://nnabla.org/pretrained-models/ai-research-code/d3net/semantic-segmentation/$weight_file_name"
   ]
  },
  {
   "cell_type": "markdown",
   "metadata": {},
   "source": [
    "We are now ready to run semantic segmentation! The output will be saved under filename `result.jpg`. "
   ]
  },
  {
   "cell_type": "code",
   "execution_count": null,
   "metadata": {},
   "outputs": [],
   "source": [
    "!python ./infer.py -i $input_img -cfg $cfg_file_name -m $weight_file_name -c cudnn"
   ]
  },
  {
   "cell_type": "markdown",
   "metadata": {},
   "source": [
    "Let's display both input image and segmented output."
   ]
  },
  {
   "cell_type": "code",
   "execution_count": null,
   "metadata": {},
   "outputs": [],
   "source": [
    "from IPython.display import Image,display\n",
    "print('Input Image:')\n",
    "display(Image(input_img))\n",
    "print('Segmented Output:')\n",
    "display(Image('result.jpg'))"
   ]
  }
 ],
 "metadata": {
  "accelerator": "GPU",
  "kernelspec": {
   "display_name": "Python 3",
   "language": "python",
   "name": "python3"
  },
  "language_info": {
   "codemirror_mode": {
    "name": "ipython",
    "version": 3
   },
   "file_extension": ".py",
   "mimetype": "text/x-python",
   "name": "python",
   "nbconvert_exporter": "python",
   "pygments_lexer": "ipython3",
   "version": "3.7.3"
  }
 },
 "nbformat": 4,
 "nbformat_minor": 2
}
